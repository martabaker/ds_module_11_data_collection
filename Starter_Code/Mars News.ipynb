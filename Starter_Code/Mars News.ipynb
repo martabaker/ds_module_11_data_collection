{
 "cells": [
  {
   "cell_type": "code",
   "execution_count": null,
   "id": "408828e1-49ef-421f-89d7-1662b89e1395",
   "metadata": {},
   "outputs": [],
   "source": [
    "# Import Dependencies\n",
    "# Scraping\n",
    "from splinter import Browser\n",
    "from selenium.webdriver.chrome.service import Service\n",
    "from webdriver_manager.chrome import ChromeDriverManager\n",
    "\n",
    "# Requests/Time\n",
    "import requests\n",
    "import time\n",
    "\n",
    "# parsing\n",
    "from bs4 import BeautifulSoup\n",
    "\n",
    "# Data Science\n",
    "import pandas as pd\n",
    "import numpy as np\n",
    "import matplotlib.pyplot as plt"
   ]
  },
  {
   "cell_type": "code",
   "execution_count": null,
   "id": "ca3e47d5-8450-4d92-a542-4ae525fe0671",
   "metadata": {},
   "outputs": [],
   "source": [
    "# Launch the browser\n",
    "my_service = Service(executable_path=ChromeDriverManager().install())\n",
    "browser = Browser('chrome', service=my_service)"
   ]
  },
  {
   "cell_type": "markdown",
   "id": "e023589b-f7ee-46b9-9c8b-741d9eca47b3",
   "metadata": {},
   "source": [
    "## Step 1: Visit the Website"
   ]
  },
  {
   "cell_type": "code",
   "execution_count": null,
   "id": "61b5df25-fd81-40f4-8bff-30eef3f9aca6",
   "metadata": {},
   "outputs": [],
   "source": [
    "# Set the url to visit\n",
    "url = 'https://static.bc-edx.com/data/web/mars_news/index.html'\n",
    "\n",
    "# Use the browser to visit the url\n",
    "browser.visit(url)"
   ]
  },
  {
   "cell_type": "markdown",
   "id": "c24fc010-c124-492c-ad7d-87bb39d53157",
   "metadata": {},
   "source": [
    "## Step 2: Scrape the Website"
   ]
  },
  {
   "cell_type": "code",
   "execution_count": null,
   "id": "d3e73f76-0ce4-4130-bac5-5ae01c051c29",
   "metadata": {},
   "outputs": [],
   "source": [
    "# Gather the html from the current page in the browser\n",
    "html = browser.html\n",
    "\n",
    "# soupify\n",
    "soup = BeautifulSoup(html, 'lxml')"
   ]
  },
  {
   "cell_type": "code",
   "execution_count": null,
   "id": "8ffcda08-9ae2-440f-8e20-3d3953860046",
   "metadata": {},
   "outputs": [],
   "source": [
    "# Extract all the text elements"
   ]
  },
  {
   "cell_type": "markdown",
   "id": "40a28b3a-61e5-45c6-b96a-101c75664323",
   "metadata": {},
   "source": [
    "## Step 3: Store the Results"
   ]
  },
  {
   "cell_type": "code",
   "execution_count": null,
   "id": "ed4068fe-2e8b-4a28-9932-a1a1a68ecaea",
   "metadata": {},
   "outputs": [],
   "source": [
    "# Test extracting the title and preview for 1 text element\n",
    "# Store the title and preview pair in a dictionary (might need to look at stuff from week 10 for this-maybe)"
   ]
  },
  {
   "cell_type": "code",
   "execution_count": null,
   "id": "f44def07-c188-4b73-9ebe-0dbb47abeb58",
   "metadata": {},
   "outputs": [],
   "source": [
    "# Loop through all the text elements to get the title and preview"
   ]
  },
  {
   "cell_type": "code",
   "execution_count": null,
   "id": "db9526f0-f3aa-4063-a530-ea0927e190e8",
   "metadata": {},
   "outputs": [],
   "source": [
    "# Print the list"
   ]
  },
  {
   "cell_type": "code",
   "execution_count": null,
   "id": "96d3d9a9-50aa-46dc-8c26-fc1a3eebd1f8",
   "metadata": {},
   "outputs": [],
   "source": [
    "browser.quit()"
   ]
  },
  {
   "cell_type": "code",
   "execution_count": null,
   "id": "420e0120-8da2-446d-ad32-cb8f3767de30",
   "metadata": {},
   "outputs": [],
   "source": []
  },
  {
   "cell_type": "code",
   "execution_count": null,
   "id": "66372eee-0c04-4d34-9471-9a830765da90",
   "metadata": {},
   "outputs": [],
   "source": []
  }
 ],
 "metadata": {
  "kernelspec": {
   "display_name": "Python 3 (ipykernel)",
   "language": "python",
   "name": "python3"
  },
  "language_info": {
   "codemirror_mode": {
    "name": "ipython",
    "version": 3
   },
   "file_extension": ".py",
   "mimetype": "text/x-python",
   "name": "python",
   "nbconvert_exporter": "python",
   "pygments_lexer": "ipython3",
   "version": "3.10.13"
  }
 },
 "nbformat": 4,
 "nbformat_minor": 5
}
