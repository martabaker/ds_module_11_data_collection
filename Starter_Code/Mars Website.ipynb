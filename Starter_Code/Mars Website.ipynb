{
 "cells": [
  {
   "cell_type": "code",
   "execution_count": null,
   "id": "01fd6b24-f0a1-47b1-baea-b971a97125a5",
   "metadata": {},
   "outputs": [],
   "source": [
    "# Import Dependencies\n",
    "# Scraping\n",
    "from splinter import Browser\n",
    "from selenium.webdriver.chrome.service import Service\n",
    "from webdriver_manager.chrome import ChromeDriverManager\n",
    "\n",
    "# Requests/Time\n",
    "import requests\n",
    "import time\n",
    "\n",
    "# parsing\n",
    "from bs4 import BeautifulSoup\n",
    "\n",
    "# Data Science\n",
    "import pandas as pd\n",
    "import numpy as np\n",
    "import matplotlib.pyplot as plt"
   ]
  },
  {
   "cell_type": "code",
   "execution_count": null,
   "id": "981e60c8-8022-4710-9d30-53808af0db28",
   "metadata": {},
   "outputs": [],
   "source": [
    "# Launch the browser\n",
    "my_service = Service(executable_path=ChromeDriverManager().install())\n",
    "browser = Browser('chrome', service=my_service)"
   ]
  },
  {
   "cell_type": "markdown",
   "id": "6f4d1fda-d701-41d9-8f09-f455f58b0ee9",
   "metadata": {},
   "source": [
    "## Step 1: Visit the Website"
   ]
  },
  {
   "cell_type": "code",
   "execution_count": null,
   "id": "e59c614f-9d89-4214-b52e-d43f7d654c67",
   "metadata": {},
   "outputs": [],
   "source": [
    "# Set the url to visit\n",
    "url = 'https://static.bc-edx.com/data/web/mars_facts/temperature.html'\n",
    "\n",
    "# Use the browser to visit the url\n",
    "browser.visit(url)"
   ]
  },
  {
   "cell_type": "markdown",
   "id": "9db5e230-260a-4df7-a5d4-1a625d21d26e",
   "metadata": {},
   "source": [
    "## Step 2: Scrape the Table"
   ]
  },
  {
   "cell_type": "code",
   "execution_count": null,
   "id": "0e642285-cb88-4b29-a2ce-69a40bb84f51",
   "metadata": {},
   "outputs": [],
   "source": [
    "# Gather the html from the current page in the browser\n",
    "html = browser.html\n",
    "\n",
    "# soupify\n",
    "soup = BeautifulSoup(html, 'lxml')"
   ]
  },
  {
   "cell_type": "code",
   "execution_count": null,
   "id": "04ab1224-95b5-402b-b019-8dfab0c7a1b2",
   "metadata": {},
   "outputs": [],
   "source": [
    "# Extract all rows of data - might not need to do this"
   ]
  },
  {
   "cell_type": "markdown",
   "id": "a3fbfdb5-7975-44d1-b757-a065315557b5",
   "metadata": {},
   "source": [
    "## Step 3: Store the Data"
   ]
  },
  {
   "cell_type": "code",
   "execution_count": null,
   "id": "c6dc9e52-12dc-46cf-b277-69318aec892e",
   "metadata": {},
   "outputs": [],
   "source": [
    "# Try to do the extractions for 1 item"
   ]
  },
  {
   "cell_type": "code",
   "execution_count": null,
   "id": "9ed49207-05a3-4994-8704-763a6d517d8d",
   "metadata": {},
   "outputs": [],
   "source": [
    "# Create a Pandas Dataframe\n",
    "# Will need to create a \"rows\" list and then add: id, terrestrial_date, sol, ls, month, min_temp, and pressure\n",
    "# just do this like shown in the Stack Overflow example from class"
   ]
  },
  {
   "cell_type": "markdown",
   "id": "fdf0feda-de63-47da-a5ea-70ef6edec0b0",
   "metadata": {},
   "source": [
    "## Step 4: Prepare Data for Analysis"
   ]
  },
  {
   "cell_type": "code",
   "execution_count": null,
   "id": "164ccb2c-ddfa-418e-97a5-6ba4798e69fd",
   "metadata": {},
   "outputs": [],
   "source": [
    "# Check data type of each column"
   ]
  },
  {
   "cell_type": "code",
   "execution_count": null,
   "id": "ba694bdc-6d4c-4047-817e-a8632bc727a5",
   "metadata": {},
   "outputs": [],
   "source": [
    "# Change data types for data analysis"
   ]
  },
  {
   "cell_type": "code",
   "execution_count": null,
   "id": "0c3bdc2c-b1e5-4bc4-96ae-9cdfe80b833e",
   "metadata": {},
   "outputs": [],
   "source": [
    "# Check data types of each column again to confirm changes were successful"
   ]
  },
  {
   "cell_type": "markdown",
   "id": "88e1fc6d-ba79-43dd-a54c-dbd6b4b9e2ad",
   "metadata": {},
   "source": [
    "## Step 5: Analyze the Data\n",
    "---\n",
    "Write-up:\n",
    "- Temperature\n",
    "- Pressure\n",
    "- Martian Year from the plot"
   ]
  },
  {
   "cell_type": "code",
   "execution_count": null,
   "id": "a0a271dc-4c51-4bfe-9da7-a701ee302cee",
   "metadata": {},
   "outputs": [],
   "source": [
    "# How many months are there on Mars?"
   ]
  },
  {
   "cell_type": "code",
   "execution_count": null,
   "id": "323f1407-9eae-4ebd-8122-eab47eafffa4",
   "metadata": {},
   "outputs": [],
   "source": [
    "# How many Martian days' worth of data are there?"
   ]
  },
  {
   "cell_type": "code",
   "execution_count": null,
   "id": "2bdbb794-04b3-4d1d-91c1-c77e1433edb6",
   "metadata": {},
   "outputs": [],
   "source": [
    "# What is the average low temperature by month?"
   ]
  },
  {
   "cell_type": "code",
   "execution_count": null,
   "id": "fae8f14e-dc81-4208-b614-c08edd6121c0",
   "metadata": {},
   "outputs": [],
   "source": [
    "# Plot average temperature by month using a bar chart"
   ]
  },
  {
   "cell_type": "code",
   "execution_count": null,
   "id": "3ddb8cf2-bec0-422b-a9c8-c72b4f4dc20b",
   "metadata": {},
   "outputs": [],
   "source": [
    "# Identify the coldest and hottest months in Curiosity's location - Just need to sort by Temperature and then replot the graph"
   ]
  },
  {
   "cell_type": "code",
   "execution_count": null,
   "id": "249ef126-76b8-4aac-81cf-2992f01fac98",
   "metadata": {},
   "outputs": [],
   "source": [
    "# Average Pressure by Martian month"
   ]
  },
  {
   "cell_type": "code",
   "execution_count": null,
   "id": "3bb0dd2e-b583-4a61-94fa-c7474019066a",
   "metadata": {},
   "outputs": [],
   "source": [
    "# Plot average pressure by month "
   ]
  },
  {
   "cell_type": "code",
   "execution_count": null,
   "id": "8d8f01b2-3105-4af1-b5ce-00e60ac15582",
   "metadata": {},
   "outputs": [],
   "source": [
    "# How many terrestrial (earth) days are there in a Martian year?\n",
    "# Plot daily minimum temperature (y-axis); x-axis is the day of the year"
   ]
  },
  {
   "cell_type": "markdown",
   "id": "c5a18e91-1e5b-4a71-b7ba-416098b821ca",
   "metadata": {},
   "source": [
    "## Step 6: Save the Data"
   ]
  },
  {
   "cell_type": "code",
   "execution_count": 1,
   "id": "42ff8cf0-a1b5-4a3f-89b5-5686d20029b0",
   "metadata": {},
   "outputs": [],
   "source": [
    "# Write the data to a CSV"
   ]
  },
  {
   "cell_type": "code",
   "execution_count": null,
   "id": "6bc1837c-6515-46a7-99ba-b2d033b6ff61",
   "metadata": {},
   "outputs": [],
   "source": [
    "browser.quit()"
   ]
  },
  {
   "cell_type": "code",
   "execution_count": null,
   "id": "eaa5db86-bd00-45dd-a903-b9a4ff3e4312",
   "metadata": {},
   "outputs": [],
   "source": []
  }
 ],
 "metadata": {
  "kernelspec": {
   "display_name": "Python 3 (ipykernel)",
   "language": "python",
   "name": "python3"
  },
  "language_info": {
   "codemirror_mode": {
    "name": "ipython",
    "version": 3
   },
   "file_extension": ".py",
   "mimetype": "text/x-python",
   "name": "python",
   "nbconvert_exporter": "python",
   "pygments_lexer": "ipython3",
   "version": "3.10.13"
  }
 },
 "nbformat": 4,
 "nbformat_minor": 5
}
