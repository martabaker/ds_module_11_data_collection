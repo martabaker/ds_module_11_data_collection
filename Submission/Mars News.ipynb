{
 "cells": [
  {
   "cell_type": "code",
   "execution_count": 1,
   "id": "408828e1-49ef-421f-89d7-1662b89e1395",
   "metadata": {},
   "outputs": [],
   "source": [
    "# Import Dependencies\n",
    "# Scraping\n",
    "from splinter import Browser\n",
    "from selenium.webdriver.chrome.service import Service\n",
    "from webdriver_manager.chrome import ChromeDriverManager\n",
    "\n",
    "# Requests/Time\n",
    "import requests\n",
    "import time\n",
    "\n",
    "# parsing\n",
    "from bs4 import BeautifulSoup\n",
    "\n",
    "# Data Science\n",
    "import pandas as pd\n",
    "import numpy as np\n",
    "import matplotlib.pyplot as plt"
   ]
  },
  {
   "cell_type": "code",
   "execution_count": 2,
   "id": "ca3e47d5-8450-4d92-a542-4ae525fe0671",
   "metadata": {},
   "outputs": [],
   "source": [
    "# Launch the browser\n",
    "my_service = Service(executable_path=ChromeDriverManager().install())\n",
    "browser = Browser('chrome', service=my_service)"
   ]
  },
  {
   "cell_type": "markdown",
   "id": "e023589b-f7ee-46b9-9c8b-741d9eca47b3",
   "metadata": {},
   "source": [
    "## Step 1: Visit the Website"
   ]
  },
  {
   "cell_type": "code",
   "execution_count": 3,
   "id": "61b5df25-fd81-40f4-8bff-30eef3f9aca6",
   "metadata": {},
   "outputs": [],
   "source": [
    "# Set the url to visit\n",
    "url = 'https://static.bc-edx.com/data/web/mars_news/index.html'\n",
    "\n",
    "# Use the browser to visit the url\n",
    "browser.visit(url)"
   ]
  },
  {
   "cell_type": "markdown",
   "id": "c24fc010-c124-492c-ad7d-87bb39d53157",
   "metadata": {},
   "source": [
    "## Step 2: Scrape the Website"
   ]
  },
  {
   "cell_type": "code",
   "execution_count": 4,
   "id": "d3e73f76-0ce4-4130-bac5-5ae01c051c29",
   "metadata": {},
   "outputs": [],
   "source": [
    "# Gather the html from the current page in the browser\n",
    "html = browser.html\n",
    "\n",
    "# soupify\n",
    "soup = BeautifulSoup(html, 'lxml')"
   ]
  },
  {
   "cell_type": "code",
   "execution_count": 5,
   "id": "8ffcda08-9ae2-440f-8e20-3d3953860046",
   "metadata": {},
   "outputs": [],
   "source": [
    "# Extract all the text elements\n",
    "text = soup.find_all('div', {'class': 'list_text'})"
   ]
  },
  {
   "cell_type": "markdown",
   "id": "40a28b3a-61e5-45c6-b96a-101c75664323",
   "metadata": {},
   "source": [
    "## Step 3: Store the Results"
   ]
  },
  {
   "cell_type": "code",
   "execution_count": 6,
   "id": "f44def07-c188-4b73-9ebe-0dbb47abeb58",
   "metadata": {},
   "outputs": [],
   "source": [
    "# Loop through all the text elements to get the title and preview\n",
    "dict_comp = []\n",
    "\n",
    "for line in text:\n",
    "    # Extract the text\n",
    "    title = line.find('div', {'class': 'content_title'}).text.strip()\n",
    "    preview = line.find('div', {'class': 'article_teaser_body'}).text.strip()\n",
    "\n",
    "    # Create each title-preview pair\n",
    "    dict = {\n",
    "        'title': title,\n",
    "        'preview': preview\n",
    "    }\n",
    "\n",
    "    # Add dictionary to the list\n",
    "    dict_comp.append(dict)"
   ]
  },
  {
   "cell_type": "code",
   "execution_count": 7,
   "id": "db9526f0-f3aa-4063-a530-ea0927e190e8",
   "metadata": {},
   "outputs": [
    {
     "data": {
      "text/plain": [
       "[{'title': \"NASA's MAVEN Observes Martian Light Show Caused by Major Solar Storm\",\n",
       "  'preview': 'For the first time in its eight years orbiting Mars, NASA’s MAVEN mission witnessed two different types of ultraviolet aurorae simultaneously, the result of solar storms that began on Aug. 27.'},\n",
       " {'title': \"NASA Prepares to Say 'Farewell' to InSight Spacecraft\",\n",
       "  'preview': 'A closer look at what goes into wrapping up the mission as the spacecraft’s power supply continues to dwindle.'},\n",
       " {'title': 'NASA and ESA Agree on Next Steps to Return Mars Samples to Earth',\n",
       "  'preview': 'The agency’s Perseverance rover will establish the first sample depot on Mars.'},\n",
       " {'title': \"NASA's InSight Lander Detects Stunning Meteoroid Impact on Mars\",\n",
       "  'preview': 'The agency’s lander felt the ground shake during the impact while cameras aboard the Mars Reconnaissance Orbiter spotted the yawning new crater from space.'},\n",
       " {'title': 'NASA To Host Briefing on InSight, Mars Reconnaissance Orbiter Findings',\n",
       "  'preview': 'Scientists from two Mars missions will discuss how they combined images and data for a major finding on the Red Planet.'},\n",
       " {'title': 'Why NASA Is Trying To Crash Land on Mars',\n",
       "  'preview': 'Like a car’s crumple zone, the experimental SHIELD lander is designed to absorb a hard impact.'},\n",
       " {'title': 'Curiosity Mars Rover Reaches Long-Awaited Salty Region',\n",
       "  'preview': 'After years of climbing, the Mars rover has arrived at a special region believed to have formed as Mars’ climate was drying.'},\n",
       " {'title': 'Mars Mission Shields Up for Tests',\n",
       "  'preview': 'Protecting Mars Sample Return spacecraft from micrometeorites requires high-caliber work.'},\n",
       " {'title': \"NASA's InSight Waits Out Dust Storm\",\n",
       "  'preview': 'InSight’s team is taking steps to help the solar-powered lander continue operating for as long as possible.'},\n",
       " {'title': \"NASA's InSight 'Hears' Its First Meteoroid Impacts on Mars\",\n",
       "  'preview': 'The Mars lander’s seismometer has picked up vibrations from four separate impacts in the past two years.'},\n",
       " {'title': \"NASA's Perseverance Rover Investigates Geologically Rich Mars Terrain\",\n",
       "  'preview': 'The latest findings provide greater detail on a region of the Red Planet that has a watery past and is yielding promising samples for the NASA-ESA Mars Sample Return campaign.'},\n",
       " {'title': 'NASA to Host Briefing on Perseverance Mars Rover Mission Operations',\n",
       "  'preview': 'Members of the mission will discuss the rover’s activities as it gathers samples in an ancient river delta.'},\n",
       " {'title': \"NASA's Perseverance Makes New Discoveries in Mars' Jezero Crater\",\n",
       "  'preview': 'The rover found that Jezero Crater’s floor is made up of volcanic rocks that have interacted with water.'},\n",
       " {'title': \"10 Years Since Landing, NASA's Curiosity Mars Rover Still Has Drive\",\n",
       "  'preview': 'Despite signs of wear, the intrepid spacecraft is about to start an exciting new chapter of its mission as it climbs a Martian mountain.'},\n",
       " {'title': \"SAM's Top 5 Discoveries Aboard NASA's Curiosity Rover at Mars\",\n",
       "  'preview': '“Selfie” of the Curiosity rover with inset showing the SAM instrument prior to installation on the rover.'}]"
      ]
     },
     "execution_count": 7,
     "metadata": {},
     "output_type": "execute_result"
    }
   ],
   "source": [
    "# Print the list\n",
    "dict_comp"
   ]
  },
  {
   "cell_type": "code",
   "execution_count": 8,
   "id": "96d3d9a9-50aa-46dc-8c26-fc1a3eebd1f8",
   "metadata": {},
   "outputs": [],
   "source": [
    "browser.quit()"
   ]
  }
 ],
 "metadata": {
  "kernelspec": {
   "display_name": "Python 3 (ipykernel)",
   "language": "python",
   "name": "python3"
  },
  "language_info": {
   "codemirror_mode": {
    "name": "ipython",
    "version": 3
   },
   "file_extension": ".py",
   "mimetype": "text/x-python",
   "name": "python",
   "nbconvert_exporter": "python",
   "pygments_lexer": "ipython3",
   "version": "3.10.13"
  }
 },
 "nbformat": 4,
 "nbformat_minor": 5
}
