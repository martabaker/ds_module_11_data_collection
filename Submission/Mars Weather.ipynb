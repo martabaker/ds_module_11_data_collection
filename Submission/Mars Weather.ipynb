{
 "cells": [
  {
   "cell_type": "code",
   "execution_count": 1,
   "id": "01fd6b24-f0a1-47b1-baea-b971a97125a5",
   "metadata": {},
   "outputs": [],
   "source": [
    "# Import Dependencies\n",
    "# Scraping\n",
    "from splinter import Browser\n",
    "from selenium.webdriver.chrome.service import Service\n",
    "from webdriver_manager.chrome import ChromeDriverManager\n",
    "\n",
    "# Requests/Time\n",
    "import requests\n",
    "import time\n",
    "\n",
    "# parsing\n",
    "from bs4 import BeautifulSoup\n",
    "\n",
    "# Data Science\n",
    "import pandas as pd\n",
    "import numpy as np\n",
    "import matplotlib.pyplot as plt"
   ]
  },
  {
   "cell_type": "code",
   "execution_count": 2,
   "id": "981e60c8-8022-4710-9d30-53808af0db28",
   "metadata": {},
   "outputs": [],
   "source": [
    "# Launch the browser\n",
    "my_service = Service(executable_path=ChromeDriverManager().install())\n",
    "browser = Browser('chrome', service=my_service)"
   ]
  },
  {
   "cell_type": "markdown",
   "id": "6f4d1fda-d701-41d9-8f09-f455f58b0ee9",
   "metadata": {},
   "source": [
    "## Step 1: Visit the Website"
   ]
  },
  {
   "cell_type": "code",
   "execution_count": 3,
   "id": "e59c614f-9d89-4214-b52e-d43f7d654c67",
   "metadata": {},
   "outputs": [],
   "source": [
    "# Set the url to visit\n",
    "url = 'https://static.bc-edx.com/data/web/mars_facts/temperature.html'\n",
    "\n",
    "# Use the browser to visit the url\n",
    "browser.visit(url)"
   ]
  },
  {
   "cell_type": "markdown",
   "id": "9db5e230-260a-4df7-a5d4-1a625d21d26e",
   "metadata": {},
   "source": [
    "## Step 2: Scrape the Table"
   ]
  },
  {
   "cell_type": "code",
   "execution_count": 4,
   "id": "0e642285-cb88-4b29-a2ce-69a40bb84f51",
   "metadata": {},
   "outputs": [],
   "source": [
    "# Gather the html from the current page in the browser\n",
    "html = browser.html\n",
    "\n",
    "# soupify\n",
    "soup = BeautifulSoup(html, 'lxml')"
   ]
  },
  {
   "cell_type": "code",
   "execution_count": 5,
   "id": "04ab1224-95b5-402b-b019-8dfab0c7a1b2",
   "metadata": {},
   "outputs": [],
   "source": [
    "# Extract all rows of data - might not need to do this\n",
    "data_rows = soup.find_all('tr', {'class': 'data-row'})"
   ]
  },
  {
   "cell_type": "markdown",
   "id": "a3fbfdb5-7975-44d1-b757-a065315557b5",
   "metadata": {},
   "source": [
    "## Step 3: Store the Data"
   ]
  },
  {
   "cell_type": "code",
   "execution_count": 6,
   "id": "9ed49207-05a3-4994-8704-763a6d517d8d",
   "metadata": {},
   "outputs": [
    {
     "data": {
      "text/html": [
       "<div>\n",
       "<style scoped>\n",
       "    .dataframe tbody tr th:only-of-type {\n",
       "        vertical-align: middle;\n",
       "    }\n",
       "\n",
       "    .dataframe tbody tr th {\n",
       "        vertical-align: top;\n",
       "    }\n",
       "\n",
       "    .dataframe thead th {\n",
       "        text-align: right;\n",
       "    }\n",
       "</style>\n",
       "<table border=\"1\" class=\"dataframe\">\n",
       "  <thead>\n",
       "    <tr style=\"text-align: right;\">\n",
       "      <th></th>\n",
       "      <th>id</th>\n",
       "      <th>terrestrial_date</th>\n",
       "      <th>sol</th>\n",
       "      <th>ls</th>\n",
       "      <th>month</th>\n",
       "      <th>min_temp</th>\n",
       "      <th>pressure</th>\n",
       "    </tr>\n",
       "  </thead>\n",
       "  <tbody>\n",
       "    <tr>\n",
       "      <th>0</th>\n",
       "      <td>2</td>\n",
       "      <td>2012-08-16</td>\n",
       "      <td>10</td>\n",
       "      <td>155</td>\n",
       "      <td>6</td>\n",
       "      <td>-75.0</td>\n",
       "      <td>739.0</td>\n",
       "    </tr>\n",
       "    <tr>\n",
       "      <th>1</th>\n",
       "      <td>13</td>\n",
       "      <td>2012-08-17</td>\n",
       "      <td>11</td>\n",
       "      <td>156</td>\n",
       "      <td>6</td>\n",
       "      <td>-76.0</td>\n",
       "      <td>740.0</td>\n",
       "    </tr>\n",
       "    <tr>\n",
       "      <th>2</th>\n",
       "      <td>24</td>\n",
       "      <td>2012-08-18</td>\n",
       "      <td>12</td>\n",
       "      <td>156</td>\n",
       "      <td>6</td>\n",
       "      <td>-76.0</td>\n",
       "      <td>741.0</td>\n",
       "    </tr>\n",
       "    <tr>\n",
       "      <th>3</th>\n",
       "      <td>35</td>\n",
       "      <td>2012-08-19</td>\n",
       "      <td>13</td>\n",
       "      <td>157</td>\n",
       "      <td>6</td>\n",
       "      <td>-74.0</td>\n",
       "      <td>732.0</td>\n",
       "    </tr>\n",
       "    <tr>\n",
       "      <th>4</th>\n",
       "      <td>46</td>\n",
       "      <td>2012-08-20</td>\n",
       "      <td>14</td>\n",
       "      <td>157</td>\n",
       "      <td>6</td>\n",
       "      <td>-74.0</td>\n",
       "      <td>740.0</td>\n",
       "    </tr>\n",
       "  </tbody>\n",
       "</table>\n",
       "</div>"
      ],
      "text/plain": [
       "   id terrestrial_date sol   ls month min_temp pressure\n",
       "0   2       2012-08-16  10  155     6    -75.0    739.0\n",
       "1  13       2012-08-17  11  156     6    -76.0    740.0\n",
       "2  24       2012-08-18  12  156     6    -76.0    741.0\n",
       "3  35       2012-08-19  13  157     6    -74.0    732.0\n",
       "4  46       2012-08-20  14  157     6    -74.0    740.0"
      ]
     },
     "execution_count": 6,
     "metadata": {},
     "output_type": "execute_result"
    }
   ],
   "source": [
    "# Create a Pandas Dataframe\n",
    "# Will need to create a \"rows\" list and then add: id, terrestrial_date, sol, ls, month, min_temp, and pressure\n",
    "# just do this like shown in the Stack Overflow example from class\n",
    "rows = []\n",
    "\n",
    "for data_line in data_rows:\n",
    "    # data stores all the items listed under the table row which can be indexed to find the individual row items\n",
    "    data = data_line.find_all('td')\n",
    "\n",
    "    # Extract the data\n",
    "    id = data[0].text.strip()\n",
    "    terrestrial_date = data[1].text.strip()\n",
    "    sol = data[2].text.strip()\n",
    "    ls = data[3].text.strip()\n",
    "    month = data[4].text.strip()\n",
    "    min_temp = data[5].text.strip()\n",
    "    pressure = data[6].text.strip()\n",
    "\n",
    "    # Create the row\n",
    "    row = {\n",
    "        'id': id,\n",
    "        'terrestrial_date': terrestrial_date,\n",
    "        'sol': sol,\n",
    "        'ls': ls,\n",
    "        'month': month,\n",
    "        'min_temp': min_temp,\n",
    "        'pressure': pressure\n",
    "    }\n",
    "\n",
    "    # Add new line to the rows list\n",
    "    rows.append(row)\n",
    "\n",
    "# Create a DataFrame with the raw data (including the incorrect data types)\n",
    "raw_df = pd.DataFrame(rows)\n",
    "raw_df.head()"
   ]
  },
  {
   "cell_type": "markdown",
   "id": "fdf0feda-de63-47da-a5ea-70ef6edec0b0",
   "metadata": {},
   "source": [
    "## Step 4: Prepare Data for Analysis"
   ]
  },
  {
   "cell_type": "code",
   "execution_count": 7,
   "id": "164ccb2c-ddfa-418e-97a5-6ba4798e69fd",
   "metadata": {},
   "outputs": [
    {
     "name": "stdout",
     "output_type": "stream",
     "text": [
      "<class 'pandas.core.frame.DataFrame'>\n",
      "RangeIndex: 1867 entries, 0 to 1866\n",
      "Data columns (total 7 columns):\n",
      " #   Column            Non-Null Count  Dtype \n",
      "---  ------            --------------  ----- \n",
      " 0   id                1867 non-null   object\n",
      " 1   terrestrial_date  1867 non-null   object\n",
      " 2   sol               1867 non-null   object\n",
      " 3   ls                1867 non-null   object\n",
      " 4   month             1867 non-null   object\n",
      " 5   min_temp          1867 non-null   object\n",
      " 6   pressure          1867 non-null   object\n",
      "dtypes: object(7)\n",
      "memory usage: 102.2+ KB\n"
     ]
    }
   ],
   "source": [
    "# Check data type of each column\n",
    "raw_df.info()"
   ]
  },
  {
   "cell_type": "code",
   "execution_count": 8,
   "id": "ba694bdc-6d4c-4047-817e-a8632bc727a5",
   "metadata": {},
   "outputs": [],
   "source": [
    "# Change data types for data analysis\n",
    "# To do multiple data type changes at once, got idea from: https://stackoverflow.com/a/70079246/23471668\n",
    "df = raw_df.astype({'terrestrial_date': \"datetime64[ns]\", \n",
    "                    'sol': 'int64', \n",
    "                    'ls': 'int64', \n",
    "                    'month': 'int64',\n",
    "                    'min_temp': 'float64',\n",
    "                    'pressure': 'float64'})"
   ]
  },
  {
   "cell_type": "code",
   "execution_count": 9,
   "id": "0c3bdc2c-b1e5-4bc4-96ae-9cdfe80b833e",
   "metadata": {},
   "outputs": [
    {
     "name": "stdout",
     "output_type": "stream",
     "text": [
      "<class 'pandas.core.frame.DataFrame'>\n",
      "RangeIndex: 1867 entries, 0 to 1866\n",
      "Data columns (total 7 columns):\n",
      " #   Column            Non-Null Count  Dtype         \n",
      "---  ------            --------------  -----         \n",
      " 0   id                1867 non-null   object        \n",
      " 1   terrestrial_date  1867 non-null   datetime64[ns]\n",
      " 2   sol               1867 non-null   int64         \n",
      " 3   ls                1867 non-null   int64         \n",
      " 4   month             1867 non-null   int64         \n",
      " 5   min_temp          1867 non-null   float64       \n",
      " 6   pressure          1867 non-null   float64       \n",
      "dtypes: datetime64[ns](1), float64(2), int64(3), object(1)\n",
      "memory usage: 102.2+ KB\n"
     ]
    }
   ],
   "source": [
    "# Check data types of each column again to confirm changes were successful\n",
    "df.info()"
   ]
  },
  {
   "cell_type": "markdown",
   "id": "88e1fc6d-ba79-43dd-a54c-dbd6b4b9e2ad",
   "metadata": {},
   "source": [
    "## Step 5: Analyze the Data\n",
    "---\n",
    "Write-up:\n",
    "- The coldest month on Mars is, on average, the 3rd month, while the 8th month is the warmest.\n",
    "- On average, the 6th month has the lowest pressure while the 9th month has the highest pressure on Mars.\n",
    "- Looking at the plot, the difference between troughs is roughly 675 days (from 475 to 1150 days) which would reflect the number of days in a year on Mars"
   ]
  },
  {
   "cell_type": "code",
   "execution_count": 10,
   "id": "a0a271dc-4c51-4bfe-9da7-a701ee302cee",
   "metadata": {},
   "outputs": [
    {
     "data": {
      "text/plain": [
       "month\n",
       "1     174\n",
       "2     178\n",
       "3     192\n",
       "4     194\n",
       "5     149\n",
       "6     147\n",
       "7     142\n",
       "8     141\n",
       "9     134\n",
       "10    112\n",
       "11    138\n",
       "12    166\n",
       "Name: count, dtype: int64"
      ]
     },
     "execution_count": 10,
     "metadata": {},
     "output_type": "execute_result"
    }
   ],
   "source": [
    "# How many months are there on Mars?\n",
    "months = df.month.value_counts().sort_index()\n",
    "months"
   ]
  },
  {
   "cell_type": "code",
   "execution_count": 11,
   "id": "323f1407-9eae-4ebd-8122-eab47eafffa4",
   "metadata": {},
   "outputs": [
    {
     "data": {
      "text/plain": [
       "1867"
      ]
     },
     "execution_count": 11,
     "metadata": {},
     "output_type": "execute_result"
    }
   ],
   "source": [
    "# How many Martian days' worth of data are there?\n",
    "days = len(df.id)\n",
    "days"
   ]
  },
  {
   "cell_type": "code",
   "execution_count": 12,
   "id": "2bdbb794-04b3-4d1d-91c1-c77e1433edb6",
   "metadata": {},
   "outputs": [
    {
     "data": {
      "text/plain": [
       "month\n",
       "1    -77.160920\n",
       "2    -79.932584\n",
       "3    -83.307292\n",
       "4    -82.747423\n",
       "5    -79.308725\n",
       "6    -75.299320\n",
       "7    -72.281690\n",
       "8    -68.382979\n",
       "9    -69.171642\n",
       "10   -71.982143\n",
       "11   -71.985507\n",
       "12   -74.451807\n",
       "Name: min_temp, dtype: float64"
      ]
     },
     "execution_count": 12,
     "metadata": {},
     "output_type": "execute_result"
    }
   ],
   "source": [
    "# What is the average low temperature by month?\n",
    "avg_min_temp = df.min_temp.groupby(df.month).mean()\n",
    "avg_min_temp"
   ]
  },
  {
   "cell_type": "code",
   "execution_count": 13,
   "id": "fae8f14e-dc81-4208-b614-c08edd6121c0",
   "metadata": {},
   "outputs": [
    {
     "data": {
      "text/plain": [
       "<Axes: xlabel='month', ylabel='Temperature in Celsius'>"
      ]
     },
     "execution_count": 13,
     "metadata": {},
     "output_type": "execute_result"
    },
    {
     "data": {
      "image/png": "[encoded data removed]",
      "text/plain": [
       "<Figure size 640x480 with 1 Axes>"
      ]
     },
     "metadata": {},
     "output_type": "display_data"
    }
   ],
   "source": [
    "# Plot average temperature by month using a bar chart\n",
    "avg_min_temp.plot(kind='bar', ylabel='Temperature in Celsius', color='purple')"
   ]
  },
  {
   "cell_type": "code",
   "execution_count": 14,
   "id": "3ddb8cf2-bec0-422b-a9c8-c72b4f4dc20b",
   "metadata": {},
   "outputs": [
    {
     "data": {
      "text/plain": [
       "<Axes: xlabel='month', ylabel='Temperature in Celsius'>"
      ]
     },
     "execution_count": 14,
     "metadata": {},
     "output_type": "execute_result"
    },
    {
     "data": {
      "image/png": "[encoded data removed]",
      "text/plain": [
       "<Figure size 640x480 with 1 Axes>"
      ]
     },
     "metadata": {},
     "output_type": "display_data"
    }
   ],
   "source": [
    "# Identify the coldest and hottest months in Curiosity's location - Just need to sort by Temperature and then replot the graph\n",
    "avg_min_temp.sort_values().plot(kind='bar', ylabel='Temperature in Celsius', color='purple')"
   ]
  },
  {
   "cell_type": "code",
   "execution_count": 15,
   "id": "249ef126-76b8-4aac-81cf-2992f01fac98",
   "metadata": {},
   "outputs": [
    {
     "data": {
      "text/plain": [
       "month\n",
       "1     862.488506\n",
       "2     889.455056\n",
       "3     877.322917\n",
       "4     806.329897\n",
       "5     748.557047\n",
       "6     745.054422\n",
       "7     795.105634\n",
       "8     873.829787\n",
       "9     913.305970\n",
       "10    887.312500\n",
       "11    857.014493\n",
       "12    842.156627\n",
       "Name: pressure, dtype: float64"
      ]
     },
     "execution_count": 15,
     "metadata": {},
     "output_type": "execute_result"
    }
   ],
   "source": [
    "# Average Pressure by Martian month\n",
    "avg_press = df.pressure.groupby(df.month).mean()\n",
    "avg_press"
   ]
  },
  {
   "cell_type": "code",
   "execution_count": 16,
   "id": "3bb0dd2e-b583-4a61-94fa-c7474019066a",
   "metadata": {},
   "outputs": [
    {
     "data": {
      "text/plain": [
       "<Axes: xlabel='month', ylabel='Pressure (atm)'>"
      ]
     },
     "execution_count": 16,
     "metadata": {},
     "output_type": "execute_result"
    },
    {
     "data": {
      "image/png": "[encoded data removed]",
      "text/plain": [
       "<Figure size 640x480 with 1 Axes>"
      ]
     },
     "metadata": {},
     "output_type": "display_data"
    }
   ],
   "source": [
    "# Plot average pressure by month \n",
    "avg_press.sort_values().plot(kind='bar', ylabel='Pressure (atm)', color='purple')"
   ]
  },
  {
   "cell_type": "code",
   "execution_count": 17,
   "id": "8d8f01b2-3105-4af1-b5ce-00e60ac15582",
   "metadata": {},
   "outputs": [
    {
     "data": {
      "text/plain": [
       "<Axes: xlabel='Number of Terrestrial Days', ylabel='Minimum Temperature'>"
      ]
     },
     "execution_count": 17,
     "metadata": {},
     "output_type": "execute_result"
    },
    {
     "data": {
      "image/png": "[encoded data removed]",
      "text/plain": [
       "<Figure size 640x480 with 1 Axes>"
      ]
     },
     "metadata": {},
     "output_type": "display_data"
    }
   ],
   "source": [
    "# How many terrestrial (earth) days are there in a Martian year?\n",
    "# Plot daily minimum temperature (y-axis); x-axis is the day of the year\n",
    "df.min_temp.plot(kind='line', xlabel='Number of Terrestrial Days', ylabel='Minimum Temperature', color='purple')"
   ]
  },
  {
   "cell_type": "markdown",
   "id": "c5a18e91-1e5b-4a71-b7ba-416098b821ca",
   "metadata": {},
   "source": [
    "## Step 6: Save the Data"
   ]
  },
  {
   "cell_type": "code",
   "execution_count": 18,
   "id": "42ff8cf0-a1b5-4a3f-89b5-5686d20029b0",
   "metadata": {},
   "outputs": [],
   "source": [
    "# Write the data to a CSV\n",
    "df.to_csv(\"mars_temperature.csv\", encoding='utf-8', index=False)"
   ]
  },
  {
   "cell_type": "code",
   "execution_count": 19,
   "id": "6bc1837c-6515-46a7-99ba-b2d033b6ff61",
   "metadata": {},
   "outputs": [],
   "source": [
    "browser.quit()"
   ]
  },
  {
   "cell_type": "code",
   "execution_count": null,
   "id": "eaa5db86-bd00-45dd-a903-b9a4ff3e4312",
   "metadata": {},
   "outputs": [],
   "source": []
  }
 ],
 "metadata": {
  "kernelspec": {
   "display_name": "Python 3 (ipykernel)",
   "language": "python",
   "name": "python3"
  },
  "language_info": {
   "codemirror_mode": {
    "name": "ipython",
    "version": 3
   },
   "file_extension": ".py",
   "mimetype": "text/x-python",
   "name": "python",
   "nbconvert_exporter": "python",
   "pygments_lexer": "ipython3",
   "version": "3.10.13"
  }
 },
 "nbformat": 4,
 "nbformat_minor": 5
}
